{
 "cells": [
  {
   "cell_type": "markdown",
   "id": "e4b3ebfb-13d9-4a92-bc3f-b6bc9ba1b986",
   "metadata": {},
   "source": [
    "# Scratch Notebook\n",
    "\n",
    "+ 2023-10-22"
   ]
  },
  {
   "cell_type": "markdown",
   "id": "034d2b01-63b0-4593-8e76-dbadb114605b",
   "metadata": {},
   "source": [
    ":::{info}\n",
    "This is an info box.\n",
    ":::"
   ]
  },
  {
   "cell_type": "code",
   "execution_count": null,
   "id": "ff85fc90-9e08-4121-9aeb-553a3ef1e98e",
   "metadata": {},
   "outputs": [],
   "source": []
  }
 ],
 "metadata": {
  "kernelspec": {
   "display_name": "Python 3 (ipykernel)",
   "language": "python",
   "name": "python3"
  },
  "language_info": {
   "codemirror_mode": {
    "name": "ipython",
    "version": 3
   },
   "file_extension": ".py",
   "mimetype": "text/x-python",
   "name": "python",
   "nbconvert_exporter": "python",
   "pygments_lexer": "ipython3",
   "version": "3.10.11"
  }
 },
 "nbformat": 4,
 "nbformat_minor": 5
}
